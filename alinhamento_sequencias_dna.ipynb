{
 "cells": [
  {
   "cell_type": "code",
   "execution_count": 1,
   "metadata": {},
   "outputs": [],
   "source": [
    "#================================#\n",
    "#       Lucas C. Machado         #\n",
    "#       lcmachado@inf.ufrgs.br   #\n",
    "#================================#\n",
    "\n",
    "#Este trabalho foi desenvolvido para \n",
    "# a disciplina de Biologia Computacional\n",
    "\n",
    "# O objetivo do código é comparar \n",
    "# a similaridade de dna entre\n",
    "# distintos animais utilizando o algoritmo \n",
    "# de Needleman-Wunsch "
   ]
  },
  {
   "cell_type": "markdown",
   "metadata": {},
   "source": [
    "## Funções Auxiliares"
   ]
  },
  {
   "cell_type": "code",
   "execution_count": 1,
   "metadata": {},
   "outputs": [],
   "source": [
    "#=======================================================\n",
    "# Parâmetros que serão utilizados no cálculo das funções\n",
    "#=======================================================\n",
    "gap = -3\n",
    "match = +2\n",
    "mismatch = -2\n",
    "\n",
    "#=======================================================\n",
    "#       FUNÇÕES AUXILIARES \n",
    "#=======================================================\n",
    "def matrizDeZeros(linha,coluna):\n",
    "    maux = []\n",
    "    for x in range(linha):\n",
    "        linha = []\n",
    "        for j in range(coluna):\n",
    "            linha.append(0)\n",
    "        maux.append(linha)\n",
    "    return maux\n",
    "\n",
    "def imprimeMatriz(mat):\n",
    "    for i in range(0, len(mat)):\n",
    "        for j in range(0, len(mat[i])):\n",
    "            print(mat[i][j], end = \"\")\n",
    "            if j != len(mat[i]) - 1:\n",
    "                print(\"   \", end = \"\")\n",
    "        print(\"\")\n",
    "\n",
    "def match_score(x, y):\n",
    "    if x == y:\n",
    "        return match\n",
    "    elif x == '-' or y == '-':\n",
    "        return gap\n",
    "    else:\n",
    "        return mismatch\n",
    "    \n",
    "def calcula_id(a1, a2):\n",
    "    i = len(a1) -1\n",
    "    id = 0\n",
    "    while i >= 0:\n",
    "        if(a1[i] == a2[i]):\n",
    "            id +=1\n",
    "        i -= 1\n",
    "    return id\n",
    "\n",
    "# le_dna_txt: Lê arquivo e devolve String contida nele\n",
    "def le_dna_txt(arquivo):\n",
    "    conteudo = arquivo.read()\n",
    "    conteudo  = conteudo .replace('\\n','')  #remover quebra de linhas\n",
    "    return conteudo "
   ]
  },
  {
   "cell_type": "markdown",
   "metadata": {},
   "source": [
    "## Leitura dos Arquivos"
   ]
  },
  {
   "cell_type": "code",
   "execution_count": 3,
   "metadata": {},
   "outputs": [],
   "source": [
    "# Leitura dos arquivos que contêm as sequências\n",
    "arquivos = ['camundongo.txt', 'carpa_comum.txt', 'cabra.txt', 'homo_sapiens.txt']\n",
    "sequencias = []\n",
    "\n",
    "for arquivo in arquivos:\n",
    "    with open(arquivo, 'r') as f:\n",
    "        sequencia = le_dna_txt(f)\n",
    "        sequencias.append(sequencia)\n",
    "\n",
    "camundongo = sequencias[0]\n",
    "carpa_comum = sequencias[1]\n",
    "cabra = sequencias[2]\n",
    "homo_sapiens = sequencias[3]\n"
   ]
  },
  {
   "cell_type": "markdown",
   "metadata": {},
   "source": [
    "## Needleman-Wunsch"
   ]
  },
  {
   "cell_type": "code",
   "execution_count": 4,
   "metadata": {},
   "outputs": [],
   "source": [
    "def needleman_wunsch_aninhamento(seq1, seq2):\n",
    "\n",
    "    a1 = \"\" #string 1 \n",
    "    a2 = \"\" #string 2 \n",
    "\n",
    "    #tamanho das sequência\n",
    "    m = len(seq1)\n",
    "    n = len(seq2) \n",
    "    matriz_score = matrizDeZeros(m+1, n+1)\n",
    "   \n",
    "    for i in range(0, m + 1):\n",
    "        matriz_score[i][0] = gap * i\n",
    "    \n",
    "    for j in range(0, n + 1):\n",
    "        matriz_score[0][j] = gap * j\n",
    "        \n",
    "    for i in range(1, m + 1):\n",
    "        for j in range(1, n + 1):\n",
    "            diagonal = matriz_score[i - 1][j - 1] + match_score(seq1[i-1], seq2[j-1])\n",
    "            esq = matriz_score[i - 1][j] + gap\n",
    "            cima = matriz_score[i][j - 1] + gap\n",
    "            matriz_score[i][j] = max(cima, esq, diagonal)\n",
    "\n",
    "    #iteradores\n",
    "    i = m\n",
    "    j = n\n",
    "    \n",
    "    while i > 0 and j > 0: \n",
    "        p = matriz_score[i][j]\n",
    "        diagonal = matriz_score[i-1][j-1]\n",
    "        cima = matriz_score[i][j-1]\n",
    "        esq = matriz_score[i-1][j]\n",
    "    \n",
    "        if p == diagonal + match_score(seq1[i-1], seq2[j-1]):\n",
    "            a1 += seq1[i-1]\n",
    "            a2 += seq2[j-1]\n",
    "            i -= 1\n",
    "            j -= 1\n",
    "        elif p == cima +  gap:\n",
    "            a1 += '-'\n",
    "            a2 += seq2[j-1]\n",
    "            j -= 1\n",
    "        elif p == esq +  gap:\n",
    "            a1 += seq1[i-1]\n",
    "            a2 += '-'\n",
    "            i -= 1\n",
    "    #caso as sequências não sejam do mesmo tamanho\n",
    "    while i > 0:\n",
    "        a1 += seq1[i-1]\n",
    "        a2 += '-'\n",
    "        i-=1\n",
    "    while j > 0:\n",
    "        a1 += '-'\n",
    "        a2 += seq2[j-1]\n",
    "        j-=1\n",
    "    \n",
    "    #Invertendo as strings que estavam invertidas (leitura começou da última posição até a posição zero)\n",
    "    a1 =  a1[::-1]\n",
    "    a2 =  a2[::-1]\n",
    "    \n",
    "    return( a1,  a2)"
   ]
  },
  {
   "cell_type": "code",
   "execution_count": 6,
   "metadata": {},
   "outputs": [],
   "source": [
    "def needleman_wunsch_criaMatriz(seq1, seq2):\n",
    "    \n",
    "    #tamanho das sequência\n",
    "    m = len(seq1)\n",
    "    n = len(seq2) \n",
    "    matriz_score = matrizDeZeros(m+1, n+1)\n",
    "   \n",
    "    for i in range(0, m + 1):\n",
    "        matriz_score[i][0] = gap * i\n",
    "    \n",
    "    for j in range(0, n + 1):\n",
    "        matriz_score[0][j] = gap * j\n",
    "        \n",
    "    for i in range(1, m + 1):\n",
    "        for j in range(1, n + 1):\n",
    "            diagonal = matriz_score[i - 1][j - 1] + match_score(seq1[i-1], seq2[j-1])\n",
    "            esq = matriz_score[i - 1][j] + gap\n",
    "            cima = matriz_score[i][j - 1] + gap\n",
    "            matriz_score[i][j] = max(cima, esq, diagonal)\n",
    "    return matriz_score"
   ]
  },
  {
   "cell_type": "markdown",
   "metadata": {},
   "source": [
    "## Comparações de DNA "
   ]
  },
  {
   "cell_type": "code",
   "execution_count": 7,
   "metadata": {},
   "outputs": [
    {
     "name": "stdout",
     "output_type": "stream",
     "text": [
      "Score: 201\n",
      "Identidade: 63.0%\n"
     ]
    }
   ],
   "source": [
    "#============================\n",
    "# Carpa_Comum vs Homo_sapiens\n",
    "#============================\n",
    "\n",
    "seq1 = carpa_comum\n",
    "seq2 = homo_sapiens\n",
    "\n",
    "a1, a2 = needleman_wunsch_aninhamento(seq1, seq2)\n",
    "\n",
    "score = needleman_wunsch_criaMatriz(a1,a2)[-1][-1]\n",
    "print(f\"Score: {score}\")\n",
    "\n",
    "identidade  = calcula_id(a1, a2) / len(a1)\n",
    "print(f\"Identidade: {100*round(identidade,2)}%\" )"
   ]
  },
  {
   "cell_type": "code",
   "execution_count": 8,
   "metadata": {},
   "outputs": [
    {
     "name": "stdout",
     "output_type": "stream",
     "text": [
      "433\n",
      "Score: 330\n",
      "Identidade: 70.0%\n"
     ]
    }
   ],
   "source": [
    "#============================\n",
    "# Cabra vs Homo_sapiens\n",
    "#============================\n",
    "seq1 = homo_sapiens\n",
    "seq2 = cabra\n",
    "\n",
    "a1, a2 = needleman_wunsch_aninhamento(seq1, seq2)\n",
    "print(len(a2))\n",
    "#print(a2)\n",
    "\n",
    "score = needleman_wunsch_criaMatriz(a1,a2)[-1][-1]\n",
    "print(f\"Score: {score}\")\n",
    "\n",
    "identidade  = calcula_id(a1, a2) / len(a1)\n",
    "print(f\"Identidade: {100*round(identidade,2)}%\" )"
   ]
  },
  {
   "cell_type": "code",
   "execution_count": 9,
   "metadata": {},
   "outputs": [
    {
     "name": "stdout",
     "output_type": "stream",
     "text": [
      "Score: 205\n",
      "Identidade: 64.0%\n"
     ]
    }
   ],
   "source": [
    "#============================\n",
    "# Carpa_comum vs Homo_sapiens\n",
    "#============================\n",
    "seq1 = carpa_comum\n",
    "seq2 = cabra\n",
    "\n",
    "a1, a2 = needleman_wunsch_aninhamento(seq1, seq2)\n",
    "\n",
    "score = needleman_wunsch_criaMatriz(a1,a2)[-1][-1]\n",
    "print(f\"Score: {score}\")\n",
    "\n",
    "identidade  = calcula_id(a1, a2) / len(a1)\n",
    "print(f\"Identidade: {100*round(identidade,2)}%\" )"
   ]
  },
  {
   "cell_type": "code",
   "execution_count": 10,
   "metadata": {},
   "outputs": [
    {
     "name": "stdout",
     "output_type": "stream",
     "text": [
      "Score: 530\n",
      "Identidade: 81.0%\n"
     ]
    }
   ],
   "source": [
    "#============================\n",
    "# Camundongo vs Homo_sapiens\n",
    "#============================\n",
    "seq1 = homo_sapiens\n",
    "seq2 = camundongo\n",
    "\n",
    "a1, a2 = needleman_wunsch_aninhamento(seq1, seq2)\n",
    "\n",
    "score = needleman_wunsch_criaMatriz(a1,a2)[-1][-1]\n",
    "print(f\"Score: {score}\")\n",
    "\n",
    "identidade  = calcula_id(a1, a2) / len(a1)\n",
    "print(f\"Identidade: {100*round(identidade,2)}%\" )"
   ]
  },
  {
   "cell_type": "code",
   "execution_count": 11,
   "metadata": {},
   "outputs": [
    {
     "name": "stdout",
     "output_type": "stream",
     "text": [
      "449\n",
      "Score: 262\n",
      "Identidade: 67.0%\n"
     ]
    }
   ],
   "source": [
    "#============================\n",
    "# Camundongo vs Cabra\n",
    "#============================\n",
    "seq1 = cabra\n",
    "seq2 = camundongo\n",
    "\n",
    "a1, a2 = needleman_wunsch_aninhamento(seq1, seq2)\n",
    "print(len(a2))\n",
    "#print(a2)\n",
    "\n",
    "score = needleman_wunsch_criaMatriz(a1,a2)[-1][-1]\n",
    "print(f\"Score: {score}\")\n",
    "\n",
    "identidade  = calcula_id(a1, a2) / len(a1)\n",
    "print(f\"Identidade: {100*round(identidade,2)}%\" )"
   ]
  },
  {
   "cell_type": "code",
   "execution_count": 12,
   "metadata": {},
   "outputs": [
    {
     "name": "stdout",
     "output_type": "stream",
     "text": [
      "Score: 262\n",
      "Identidade: 67.0%\n"
     ]
    }
   ],
   "source": [
    "#============================\n",
    "# Camundongo vs Carpa-Comum\n",
    "#============================\n",
    "seq1 = cabra\n",
    "seq2 = camundongo\n",
    "\n",
    "a1, a2 = needleman_wunsch_aninhamento(seq1, seq2)\n",
    "\n",
    "score = needleman_wunsch_criaMatriz(a1,a2)[-1][-1]\n",
    "print(f\"Score: {score}\")\n",
    "\n",
    "identidade  = calcula_id(a1, a2) / len(a1)\n",
    "print(f\"Identidade: {100*round(identidade,2)}%\" )"
   ]
  }
 ],
 "metadata": {
  "kernelspec": {
   "display_name": "base",
   "language": "python",
   "name": "python3"
  },
  "language_info": {
   "codemirror_mode": {
    "name": "ipython",
    "version": 3
   },
   "file_extension": ".py",
   "mimetype": "text/x-python",
   "name": "python",
   "nbconvert_exporter": "python",
   "pygments_lexer": "ipython3",
   "version": "3.9.13"
  },
  "orig_nbformat": 4,
  "vscode": {
   "interpreter": {
    "hash": "57bc2b6ce032b5f0e93daa91901b7ea38a856826ef43aa9e95b6d3999f5310df"
   }
  }
 },
 "nbformat": 4,
 "nbformat_minor": 2
}
